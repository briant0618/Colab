{
  "nbformat": 4,
  "nbformat_minor": 0,
  "metadata": {
    "colab": {
      "name": "4.다중선형회귀.ipynb",
      "provenance": [],
      "collapsed_sections": [],
      "authorship_tag": "ABX9TyOlj2XUPeHRwWEIuteFoqbo",
      "include_colab_link": true
    },
    "kernelspec": {
      "name": "python3",
      "display_name": "Python 3"
    },
    "language_info": {
      "name": "python"
    }
  },
  "cells": [
    {
      "cell_type": "markdown",
      "metadata": {
        "id": "view-in-github",
        "colab_type": "text"
      },
      "source": [
        "<a href=\"https://colab.research.google.com/github/briant0618/Colab/blob/main/4_%EB%8B%A4%EC%A4%91%EC%84%A0%ED%98%95%ED%9A%8C%EA%B7%80.ipynb\" target=\"_parent\"><img src=\"https://colab.research.google.com/assets/colab-badge.svg\" alt=\"Open In Colab\"/></a>"
      ]
    },
    {
      "cell_type": "code",
      "metadata": {
        "id": "BTEpbD0AjNnW"
      },
      "source": [
        "\"\"\"\n",
        "날짜 : 2021/07/07\n",
        "이름 : 김동현\n",
        "내용 : 다중선형회귀 분석\n",
        "\"\"\"\n",
        "from sklearn.linear_model import LinearRegression\n",
        "from sklearn import svm"
      ],
      "execution_count": null,
      "outputs": []
    },
    {
      "cell_type": "code",
      "metadata": {
        "id": "d7Nx-O6Ujojq"
      },
      "source": [
        "# 학습데이터\n",
        "train_data = [[170,30],[155,60],[150,50],[175,40],[165,20]]\n",
        "train_label = [65,50,45,70,55]"
      ],
      "execution_count": null,
      "outputs": []
    },
    {
      "cell_type": "code",
      "metadata": {
        "colab": {
          "base_uri": "https://localhost:8080/"
        },
        "id": "zdAMXvyRkNJT",
        "outputId": "f79bd768-af44-4782-ebc8-e44049f2fabe"
      },
      "source": [
        "# 학습하기\n",
        "# 1번 유형 model = LinearRegression()\n",
        "# 2번 유형\n",
        "model = svm.SVC()\n",
        "model.fit(train_data, train_label)\n"
      ],
      "execution_count": null,
      "outputs": [
        {
          "output_type": "execute_result",
          "data": {
            "text/plain": [
              "SVC(C=1.0, break_ties=False, cache_size=200, class_weight=None, coef0=0.0,\n",
              "    decision_function_shape='ovr', degree=3, gamma='scale', kernel='rbf',\n",
              "    max_iter=-1, probability=False, random_state=None, shrinking=True,\n",
              "    tol=0.001, verbose=False)"
            ]
          },
          "metadata": {
            "tags": []
          },
          "execution_count": 8
        }
      ]
    },
    {
      "cell_type": "code",
      "metadata": {
        "colab": {
          "base_uri": "https://localhost:8080/"
        },
        "id": "J0LYpq12kVDT",
        "outputId": "b2133560-824f-4ca6-c456-22372236cc0e"
      },
      "source": [
        "# 테스트하기\n",
        "test_data = [[172,21],[168,43],[178,39]]\n",
        "result = model.predict(test_data)\n",
        "result"
      ],
      "execution_count": null,
      "outputs": [
        {
          "output_type": "execute_result",
          "data": {
            "text/plain": [
              "array([55, 70, 70])"
            ]
          },
          "metadata": {
            "tags": []
          },
          "execution_count": 9
        }
      ]
    },
    {
      "cell_type": "code",
      "metadata": {
        "id": "6WpujS7nlbhI"
      },
      "source": [
        "# 다중선형회귀 예제\n",
        "\n",
        "# 학습데이터\n",
        "train_data = [[170, 30 ,1],[155, 60, 2],[150, 50, 2],[175, 40, 1],[160, 20, 1]]\n",
        "train_label = [65,50,45,70,55]\n"
      ],
      "execution_count": null,
      "outputs": []
    },
    {
      "cell_type": "code",
      "metadata": {
        "colab": {
          "base_uri": "https://localhost:8080/"
        },
        "id": "zWiNSg5LlbbR",
        "outputId": "a4298c7e-4e94-431d-ce20-c7a777d08a25"
      },
      "source": [
        "# 학습하기\n",
        "model = LinearRegression()\n",
        "model.fit(train_data2, train_label2)\n"
      ],
      "execution_count": null,
      "outputs": [
        {
          "output_type": "execute_result",
          "data": {
            "text/plain": [
              "LinearRegression(copy_X=True, fit_intercept=True, n_jobs=None, normalize=False)"
            ]
          },
          "metadata": {
            "tags": []
          },
          "execution_count": 19
        }
      ]
    },
    {
      "cell_type": "code",
      "metadata": {
        "colab": {
          "base_uri": "https://localhost:8080/"
        },
        "id": "E87DHzOvl09i",
        "outputId": "7ed9358d-5656-4e88-8587-e5526519c3f4"
      },
      "source": [
        "# 테스트하기\n",
        "test_data = [[176,21,1],[176,21,2],[176,72,1]]\n",
        "result = model.predict(test_data)\n",
        "result"
      ],
      "execution_count": null,
      "outputs": [
        {
          "output_type": "execute_result",
          "data": {
            "text/plain": [
              "array([71., 71., 71.])"
            ]
          },
          "metadata": {
            "tags": []
          },
          "execution_count": 21
        }
      ]
    }
  ]
}